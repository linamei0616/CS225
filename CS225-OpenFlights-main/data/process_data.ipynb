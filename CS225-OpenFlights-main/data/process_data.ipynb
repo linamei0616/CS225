{
 "cells": [
  {
   "cell_type": "code",
   "execution_count": 33,
   "metadata": {},
   "outputs": [],
   "source": [
    "import pandas as pd\n",
    "import numpy as np\n",
    "import geopy.distance\n",
    "import csv\n",
    "\n",
    "def distance(lat1, long1, lat2, long2): \n",
    "    point1= (lat1, long1)\n",
    "    point2 = (lat2, long2)\n",
    "    return geopy.distance.distance(point1, point2).miles\n",
    "\n",
    "airports = pd.read_csv('C:/Users/trifo/CS-225-Final-Project/CS225-OpenFlights/data/airports.dat')\n",
    "airports.drop(airports.columns[[2, 3, 4, 5, 8, 9, 10, 11, 12, 13]], axis=1, inplace=True) \n",
    "airports.dropna(inplace=True) \n",
    "airports = airports[\n",
    "      (airports.airportid != '\\\\N') \n",
    "    & (airports.airportname != '\\\\N') \n",
    "    & (airports.latitude != '\\\\N') \n",
    "    & (airports.longitude != '\\\\N') \n",
    "    & (airports.latitude >= 24.520833)  #Latitude and longitude ranges taken from northernmost, southernmost, easternmost and westernmost places \n",
    "    & (airports.latitude <= 49.384472)  #Only considering contiguous states, so excluding Hawaii and Alaska\n",
    "    & (airports.longitude >= -124.771694) \n",
    "    & (airports.longitude <= -66.947028)\n",
    "    ]\n",
    "\n",
    "airports = airports.to_numpy()\n",
    "airport_information = {}\n",
    "for row in airports:\n",
    "    airport_information[row[0]] = [row[1], row[2], row[3]]\n",
    "\n",
    "routes = pd.read_csv('C:/Users/trifo/CS-225-Final-Project/CS225-OpenFlights/data/routes.dat')\n",
    "routes.drop(routes.columns[[0, 1, 2, 4, 6, 7, 8]], axis=1, inplace=True)\n",
    "routes.dropna(inplace=True)\n",
    "routes = routes[(routes.sourceairportid != '\\\\N') & (routes.destinationairportid != '\\\\N')]\n",
    "routes = routes.values.tolist()"
   ]
  },
  {
   "cell_type": "code",
   "execution_count": 34,
   "metadata": {},
   "outputs": [],
   "source": [
    "routes_with_distance = []\n",
    "for route in routes:\n",
    "    sourceid = int(route[0])\n",
    "    destinationid = int(route[1])\n",
    "    if (sourceid in airport_information.keys() and destinationid in airport_information.keys() and len(route) == 2):\n",
    "        route.append(distance(airport_information[sourceid][1], airport_information[sourceid][2], airport_information[destinationid][1], airport_information[destinationid][2]))\n",
    "        routes_with_distance.append(route)"
   ]
  },
  {
   "cell_type": "code",
   "execution_count": 35,
   "metadata": {},
   "outputs": [],
   "source": [
    "with open('US_routes.dat', 'w', encoding='UTF-8', newline='') as f:\n",
    "    writer = csv.writer(f)\n",
    "    writer.writerows(routes_with_distance)\n",
    "\n",
    "with open('US_airports.dat', 'w', encoding='UTF-8', newline='') as f:\n",
    "    writer = csv.writer(f)\n",
    "    for key, value in airport_information.items():\n",
    "        writer.writerow((key, value[0]))"
   ]
  },
  {
   "cell_type": "code",
   "execution_count": 36,
   "metadata": {},
   "outputs": [],
   "source": [
    "index_dict = {}\n",
    "index = 0\n",
    "for row in routes_with_distance:\n",
    "    if row[0] in index_dict.keys():\n",
    "        row[0] = index_dict[row[0]]\n",
    "    elif row[0] not in index_dict.keys():\n",
    "        index_dict[row[0]] = index\n",
    "        row[0] = index\n",
    "        index = index + 1\n",
    "    if row[1] in index_dict.keys():\n",
    "        row[1] = index_dict[row[1]]\n",
    "    elif row[1] not in index_dict.keys():\n",
    "        index_dict[row[1]] = index\n",
    "        row[1] = index\n",
    "        index = index + 1"
   ]
  },
  {
   "cell_type": "code",
   "execution_count": 37,
   "metadata": {},
   "outputs": [],
   "source": [
    "contiguous_airport_info = []\n",
    "for key, value in airport_information.items():\n",
    "    if str(key) in index_dict.keys():\n",
    "        contiguous_airport_info.append([index_dict[str(key)], value[0]])"
   ]
  },
  {
   "cell_type": "code",
   "execution_count": 38,
   "metadata": {},
   "outputs": [],
   "source": [
    "with open('US_routes_contiguous.dat', 'w', encoding='UTF-8', newline='') as f:\n",
    "    writer = csv.writer(f)\n",
    "    writer.writerows(routes_with_distance)\n",
    "\n",
    "with open('US_airports_contiguous.dat', 'w', encoding='UTF-8', newline='') as f:\n",
    "    writer = csv.writer(f)\n",
    "    writer.writerows(contiguous_airport_info)"
   ]
  }
 ],
 "metadata": {
  "kernelspec": {
   "display_name": "Python 3.10.8 ('OpenFlights')",
   "language": "python",
   "name": "python3"
  },
  "language_info": {
   "codemirror_mode": {
    "name": "ipython",
    "version": 3
   },
   "file_extension": ".py",
   "mimetype": "text/x-python",
   "name": "python",
   "nbconvert_exporter": "python",
   "pygments_lexer": "ipython3",
   "version": "3.10.8"
  },
  "orig_nbformat": 4,
  "vscode": {
   "interpreter": {
    "hash": "9aa8d3bf78e7d2bdc8ee70bce708a5057cf552bc70acb4cb49d50f60a1cbefad"
   }
  }
 },
 "nbformat": 4,
 "nbformat_minor": 2
}
